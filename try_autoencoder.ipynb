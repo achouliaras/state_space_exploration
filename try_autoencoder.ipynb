{
 "cells": [
  {
   "cell_type": "code",
   "execution_count": 1,
   "metadata": {},
   "outputs": [],
   "source": [
    "import gymnasium as gym\n",
    "import torch\n",
    "import torch.nn as nn\n",
    "import torch.optim as optim\n",
    "from collections import deque\n",
    "import numpy as np\n",
    "import random\n",
    "import minigrid"
   ]
  },
  {
   "cell_type": "code",
   "execution_count": 55,
   "metadata": {},
   "outputs": [],
   "source": [
    "env = gym.make(\"MiniGrid-Empty-5x5-v0\", max_episode_steps=50)\n",
    "env = minigrid.wrappers.FullyObsWrapper(env)\n",
    "env = minigrid.wrappers.ImgObsWrapper(env)\n",
    "env = gym.wrappers.NormalizeObservation(env)\n",
    "\n",
    "obs, _ = env.reset()"
   ]
  },
  {
   "cell_type": "code",
   "execution_count": 61,
   "metadata": {},
   "outputs": [
    {
     "data": {
      "text/plain": [
       "0"
      ]
     },
     "execution_count": 61,
     "metadata": {},
     "output_type": "execute_result"
    }
   ],
   "source": [
    "action = env.action_space.sample()\n",
    "next_obs, reward, terminated, truncated, info = env.step(action)\n",
    "reward"
   ]
  },
  {
   "cell_type": "code",
   "execution_count": 3,
   "metadata": {},
   "outputs": [],
   "source": [
    "# Autoencoder Model\n",
    "class TransitionAutoencoder(nn.Module):\n",
    "    def __init__(self, obs_shape, latent_dim):\n",
    "        super().__init__()\n",
    "        h, w, c = obs_shape\n",
    "        self.encoder = nn.Sequential(\n",
    "            nn.Conv2d(c*2, 32, kernel_size=2, stride=1, padding=0),\n",
    "            nn.ReLU(),\n",
    "            nn.Conv2d(32, 64, kernel_size=2, stride=1, padding=0),\n",
    "            nn.ReLU(),\n",
    "            nn.Flatten(),\n",
    "            nn.Linear((h - 2) * (w - 2) * 64, latent_dim),\n",
    "            nn.ReLU()\n",
    "        )\n",
    "        self.decoder = nn.Sequential(\n",
    "            nn.Linear(latent_dim, (h - 2) * (w - 2) * 64),\n",
    "            nn.ReLU(),\n",
    "            nn.Unflatten(1, (64, h - 2, w - 2)),\n",
    "            nn.ConvTranspose2d(64, 32, kernel_size=2, stride=1, padding=0, output_padding=0),\n",
    "            nn.ReLU(),\n",
    "            nn.ConvTranspose2d(32, 2*c, kernel_size=2, stride=1, padding=0),\n",
    "            nn.Sigmoid()  # Output normalized to [0, 1]\n",
    "        )\n",
    "\n",
    "    def forward(self, s_t, s_t1):\n",
    "        x = torch.cat((s_t, s_t1), dim=3)  # Concatenate along the channel axis\n",
    "        x = x.permute(0, 3, 1, 2)\n",
    "        z = self.encoder(x)\n",
    "        reconstructed = self.decoder(z)\n",
    "        reconstructed = reconstructed.permute(0,3,2,1)\n",
    "        reconstructed_s_t, reconstructed_s_t1 = reconstructed.split(int(reconstructed.shape[3] // 2), dim=3)\n",
    "        return reconstructed_s_t, reconstructed_s_t1\n"
   ]
  },
  {
   "cell_type": "code",
   "execution_count": 4,
   "metadata": {},
   "outputs": [
    {
     "data": {
      "text/plain": [
       "(7, 7, 3)"
      ]
     },
     "execution_count": 4,
     "metadata": {},
     "output_type": "execute_result"
    }
   ],
   "source": [
    "# Environment and Training\n",
    "env = gym.make(\"MiniGrid-BlockedUnlockPickup-v0\")  # Example environment\n",
    "env = minigrid.wrappers.ImgObsWrapper(env)\n",
    "obs_shape = env.observation_space.shape # (7, 7, 3)\n",
    "latent_dim = 64\n",
    "model = TransitionAutoencoder(obs_shape, latent_dim)\n",
    "optimizer = optim.Adam(model.parameters(), lr=1e-3)\n",
    "loss_fn = nn.MSELoss()\n",
    "\n",
    "replay_buffer = deque(maxlen=10000)\n",
    "env.observation_space.shape"
   ]
  },
  {
   "cell_type": "code",
   "execution_count": 5,
   "metadata": {},
   "outputs": [
    {
     "name": "stdout",
     "output_type": "stream",
     "text": [
      "Discrete(7)\n"
     ]
    }
   ],
   "source": [
    "import lib.human_player as human_player\n",
    "from hydra import initialize, compose\n",
    "from omegaconf import OmegaConf\n",
    "\n",
    "CONFIG = {\n",
    "    'domain': 'MiniGrid'\n",
    "}\n",
    "\n",
    "# Convert the dictionary into an OmegaConf object\n",
    "cfg = OmegaConf.create(CONFIG)\n",
    "\n",
    "agent = human_player.Agent(name=f'Human', action_space=env.action_space, cfg=cfg)\n"
   ]
  },
  {
   "cell_type": "code",
   "execution_count": 6,
   "metadata": {},
   "outputs": [],
   "source": [
    "# Collect data with random actions\n",
    "for episode in range(10):  # Adjust number of episodes as needed\n",
    "    obs, _ = env.reset()\n",
    "    for _ in range(100):  # Adjust steps per episode\n",
    "        action = env.action_space.sample()\n",
    "        next_obs, _, terminate, truncate, _ = env.step(action)\n",
    "        if terminate or truncate:\n",
    "            break\n",
    "        \n",
    "        replay_buffer.append((obs, next_obs))\n",
    "        obs = next_obs\n",
    "        "
   ]
  },
  {
   "cell_type": "code",
   "execution_count": 7,
   "metadata": {},
   "outputs": [],
   "source": [
    "batch = random.sample(replay_buffer, 16)\n",
    "s_t, s_t1 = zip(*batch)"
   ]
  },
  {
   "cell_type": "code",
   "execution_count": 8,
   "metadata": {},
   "outputs": [
    {
     "name": "stdout",
     "output_type": "stream",
     "text": [
      "Epoch 0, Loss: 0.5201374292373657\n",
      "Epoch 10, Loss: 0.3469119369983673\n",
      "Epoch 20, Loss: 0.026081355288624763\n",
      "Epoch 30, Loss: 0.0011141853174194694\n",
      "Epoch 40, Loss: 7.29621751816012e-05\n",
      "Epoch 50, Loss: 6.785574805689976e-05\n",
      "Epoch 60, Loss: 5.8198169426759705e-05\n",
      "Epoch 70, Loss: 6.160450720926747e-05\n",
      "Epoch 80, Loss: 6.420983845600858e-05\n",
      "Epoch 90, Loss: 6.322442641248927e-05\n",
      "Epoch 99, Loss: 6.585419760085642e-05\n"
     ]
    }
   ],
   "source": [
    "# Training Loop\n",
    "for epoch in range(100):  # Adjust number of epochs\n",
    "    batch = random.sample(replay_buffer, 32)\n",
    "    s_t, s_t1 = zip(*batch)\n",
    "    \n",
    "    s_t = torch.tensor(np.stack(s_t), dtype=torch.float32) / 255.0\n",
    "    s_t1 = torch.tensor(np.stack(s_t1), dtype=torch.float32) / 255.0\n",
    "\n",
    "    optimizer.zero_grad()\n",
    "    reconstructed_s_t, reconstructed_s_t1 = model(s_t, s_t1)\n",
    "    loss_s_t = loss_fn(reconstructed_s_t, s_t)\n",
    "    loss_s_t1 = loss_fn(reconstructed_s_t1, s_t1)\n",
    "    loss = loss_s_t + loss_s_t\n",
    "    loss.backward()\n",
    "    optimizer.step()\n",
    "\n",
    "    if epoch % 10 == 0:\n",
    "        print(f\"Epoch {epoch}, Loss: {loss.item()}\")\n",
    "print(f\"Epoch {epoch}, Loss: {loss.item()}\")"
   ]
  },
  {
   "cell_type": "code",
   "execution_count": null,
   "metadata": {},
   "outputs": [],
   "source": [
    "import time\n",
    "\n",
    "eval_env = gym.make(\"MiniGrid-BlockedUnlockPickup-v0\", render_mode='rgb_array')  # Example environment\n",
    "eval_env = minigrid.wrappers.ImgObsWrapper(eval_env)\n",
    "\n",
    "# Collect data with random actions\n",
    "for episode in range(1):  # Adjust number of episodes as needed\n",
    "    obs, _ = eval_env.reset()\n",
    "    for _ in range(100):  # Adjust steps per episode\n",
    "        action = agent.get_action()\n",
    "        # action = eval_env.action_space.sample()\n",
    "        next_obs, _, terminate, truncate, _ = env.step(action)\n",
    "        frame = env.render()\n",
    "        time.sleep(0.05)\n",
    "        if terminate or truncate:\n",
    "            break\n",
    "                \n",
    "        s_t = torch.tensor(np.stack(s_t), dtype=torch.float32) / 255.0\n",
    "        s_t1 = torch.tensor(np.stack(s_t1), dtype=torch.float32) / 255.0\n",
    "        \n",
    "        with torch.no_grad():\n",
    "            reconstructed_s_t, reconstructed_s_t1 = model(s_t, s_t1)\n",
    "            loss_s_t = loss_fn(reconstructed_s_t, s_t)\n",
    "            loss_s_t1 = loss_fn(reconstructed_s_t1, s_t1)\n",
    "            loss = loss_s_t + loss_s_t\n",
    "        print(loss.detach().cpu().numpy())\n",
    "\n",
    "        obs = next_obs"
   ]
  }
 ],
 "metadata": {
  "kernelspec": {
   "display_name": "xdrl",
   "language": "python",
   "name": "python3"
  },
  "language_info": {
   "codemirror_mode": {
    "name": "ipython",
    "version": 3
   },
   "file_extension": ".py",
   "mimetype": "text/x-python",
   "name": "python",
   "nbconvert_exporter": "python",
   "pygments_lexer": "ipython3",
   "version": "3.9.7"
  }
 },
 "nbformat": 4,
 "nbformat_minor": 2
}
